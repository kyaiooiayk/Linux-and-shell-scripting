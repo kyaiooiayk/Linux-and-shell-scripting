{
 "cells": [
  {
   "cell_type": "markdown",
   "metadata": {},
   "source": [
    "# Introduction"
   ]
  },
  {
   "cell_type": "markdown",
   "metadata": {},
   "source": [
    "<div class=\"alert alert-block alert-warning\">\n",
    "<font color=black>\n",
    "\n",
    "**What?** Linux commands cheatsheet\n",
    "\n",
    "</font>\n",
    "</div>"
   ]
  },
  {
   "cell_type": "markdown",
   "metadata": {},
   "source": [
    "# Nomenclature"
   ]
  },
  {
   "cell_type": "markdown",
   "metadata": {},
   "source": [
    "<div class=\"alert alert-block alert-info\">\n",
    "<font color=black>\n",
    " \n",
    "- **Shell scripting** is a program to run on UNIX shell.\n",
    "- **Bash** is a Unix shell and command language. \n",
    "\n",
    "</font>\n",
    "</div>"
   ]
  },
  {
   "cell_type": "markdown",
   "metadata": {},
   "source": [
    "# #! bin/bash"
   ]
  },
  {
   "cell_type": "markdown",
   "metadata": {},
   "source": [
    "<div class=\"alert alert-info\">\n",
    "<font color=black>\n",
    "\n",
    "- Inside a bash file you need to write this line `#! /bin/bash` so the interpreter knows it is a bash file.\n",
    "- To know where your bash is use `which bash`\n",
    "\n",
    "</font>\n",
    "</div>"
   ]
  },
  {
   "cell_type": "markdown",
   "metadata": {},
   "source": [
    "# chmod"
   ]
  },
  {
   "cell_type": "markdown",
   "metadata": {},
   "source": [
    "<div class=\"alert alert-info\">\n",
    "<font color=black>\n",
    "\n",
    "- Give a bash file (*sh.) persmission to be run\n",
    "\n",
    "</font>\n",
    "</div>"
   ]
  },
  {
   "cell_type": "code",
   "execution_count": null,
   "metadata": {},
   "outputs": [],
   "source": [
    ">> chmod +x filename.sh"
   ]
  },
  {
   "cell_type": "markdown",
   "metadata": {},
   "source": [
    "# Conditionals"
   ]
  },
  {
   "cell_type": "markdown",
   "metadata": {},
   "source": [
    "<div class=\"alert alert-info\">\n",
    "<font color=black>\n",
    "\n",
    "- To use conditional we start with `if` and to end we use reverse of that condition i.e `fi`.\n",
    "- Some other commands are:\n",
    "    - `-eq` : To check if two number are equal\n",
    "    - `-ne` : To check if two number are not equal\n",
    "    - `-gt` : To check if num1 is greater than num2\n",
    "    - `-lt` : To check if num1 is less than num2\n",
    "    - `-le` : For less than equal to\n",
    "\n",
    "</font>\n",
    "</div>"
   ]
  },
  {
   "cell_type": "code",
   "execution_count": 3,
   "metadata": {},
   "outputs": [
    {
     "name": "stdout",
     "output_type": "stream",
     "text": [
      "#! /bin/bash\r\n",
      "\r\n",
      "NAME=\"XYZ\"\r\n",
      "if [ $NAME==\"XYZ\" ]\r\n",
      "then\r\n",
      "    echo \"Name is XYZ\"\r\n",
      "else\r\n",
      "    echo \"Name is not XYZ\"\r\n",
      "fi"
     ]
    }
   ],
   "source": [
    "!cat ./bash_files_folder/if_example.sh"
   ]
  },
  {
   "cell_type": "code",
   "execution_count": 4,
   "metadata": {},
   "outputs": [
    {
     "name": "stdout",
     "output_type": "stream",
     "text": [
      "#! /bin/bash\r\n",
      "\r\n",
      "NUM1=1\r\n",
      "NUM2=2\r\n",
      "if [ $NUM1 -eq $NUM2 ]\r\n",
      "then\r\n",
      "    echo \"$NUM1 is equal to $NUM2\"\r\n",
      "elif [ $NUM1 -lt $NUM2 ]\r\n",
      "then\r\n",
      "    echo \"$NUM1 is less than $NUM2\"\r\n",
      "else\r\n",
      "    echo echo \"$NUM1 is greater than $NUM2\"\r\n",
      "fi"
     ]
    }
   ],
   "source": [
    "!cat ./bash_files_folder/if_else_example.sh"
   ]
  },
  {
   "cell_type": "markdown",
   "metadata": {},
   "source": [
    "# echo"
   ]
  },
  {
   "cell_type": "markdown",
   "metadata": {},
   "source": [
    "<div class=\"alert alert-info\">\n",
    "<font color=black>\n",
    "\n",
    "- Print text on console \n",
    "\n",
    "</font>\n",
    "</div>"
   ]
  },
  {
   "cell_type": "code",
   "execution_count": null,
   "metadata": {},
   "outputs": [],
   "source": [
    ">>echo \"Hello world!\""
   ]
  },
  {
   "cell_type": "markdown",
   "metadata": {},
   "source": [
    "# Functions"
   ]
  },
  {
   "cell_type": "markdown",
   "metadata": {},
   "source": [
    "<div class=\"alert alert-info\">\n",
    "<font color=black>\n",
    "\n",
    "-  `$` is used to place the function arguments.\n",
    "\n",
    "</font>\n",
    "</div>"
   ]
  },
  {
   "cell_type": "code",
   "execution_count": 6,
   "metadata": {},
   "outputs": [
    {
     "name": "stdout",
     "output_type": "stream",
     "text": [
      "#! /bin/bash\r\n",
      "\r\n",
      "function hello()\r\n",
      "{\r\n",
      "    echo \"hello $1 and $2\"\r\n",
      "}\r\n",
      "hello \"xyz\" \"abc\""
     ]
    }
   ],
   "source": [
    "!cat ./bash_files_folder/functions_example.sh"
   ]
  },
  {
   "cell_type": "markdown",
   "metadata": {},
   "source": [
    "# history"
   ]
  },
  {
   "cell_type": "markdown",
   "metadata": {},
   "source": [
    "<div class=\"alert alert-block alert-info\">\n",
    "<font color=black>\n",
    " \n",
    "Print the last 1,000 command line history\n",
    "\n",
    "</font>\n",
    "</div>"
   ]
  },
  {
   "cell_type": "code",
   "execution_count": 1,
   "metadata": {},
   "outputs": [],
   "source": [
    ">>history"
   ]
  },
  {
   "cell_type": "markdown",
   "metadata": {},
   "source": [
    "<div class=\"alert alert-block alert-info\">\n",
    "<font color=black>\n",
    " \n",
    "Search in the command history for command lines that contain the word `docker`\n",
    "\n",
    "</font>\n",
    "</div>"
   ]
  },
  {
   "cell_type": "code",
   "execution_count": 5,
   "metadata": {},
   "outputs": [],
   "source": [
    ">>history | grep docker"
   ]
  },
  {
   "cell_type": "markdown",
   "metadata": {},
   "source": [
    "# Loops"
   ]
  },
  {
   "cell_type": "markdown",
   "metadata": {},
   "source": [
    "<div class=\"alert alert-info\">\n",
    "<font color=black>\n",
    "\n",
    "- Use an alias to take the value of an iterable.\n",
    "- `do` is used for operations\n",
    "- `done` is used of the loop\n",
    "\n",
    "</font>\n",
    "</div>"
   ]
  },
  {
   "cell_type": "code",
   "execution_count": 7,
   "metadata": {},
   "outputs": [
    {
     "name": "stdout",
     "output_type": "stream",
     "text": [
      "#! /bin/bash\r\n",
      "\r\n",
      "NAMES=\"Brad Peter John\"\r\n",
      "for NAME in $NAMES\r\n",
      "    do\r\n",
      "        echo \"hello $NAME\"\r\n",
      "done"
     ]
    }
   ],
   "source": [
    "!cat ./bash_files_folder/loop_example.sh"
   ]
  },
  {
   "cell_type": "markdown",
   "metadata": {},
   "source": [
    "# User inputs"
   ]
  },
  {
   "cell_type": "markdown",
   "metadata": {},
   "source": [
    "<div class=\"alert alert-info\">\n",
    "<font color=black>\n",
    "\n",
    "- How to ask for input to the user.\n",
    "- How to store those inputs.\n",
    "- How to print them on console.\n",
    "\n",
    "</font>\n",
    "</div>"
   ]
  },
  {
   "cell_type": "code",
   "execution_count": 8,
   "metadata": {},
   "outputs": [
    {
     "name": "stdout",
     "output_type": "stream",
     "text": [
      "#! /bin/bash\r\n",
      "\r\n",
      "echo  \"Ente two numbers:\"\r\n",
      "read num1 num2\r\n",
      "echo \"You entered:  $num1 and $num2\""
     ]
    }
   ],
   "source": [
    "!cat ./bash_files_folder/user_input_example.sh"
   ]
  },
  {
   "cell_type": "markdown",
   "metadata": {},
   "source": [
    "# Variables"
   ]
  },
  {
   "cell_type": "markdown",
   "metadata": {},
   "source": [
    "<div class=\"alert alert-info\">\n",
    "<font color=black>\n",
    "\n",
    "- It is a convection to write variables in **uppercase** letter.\n",
    "- PLease also see two ways of printing the output.\n",
    "\n",
    "</font>\n",
    "</div>"
   ]
  },
  {
   "cell_type": "code",
   "execution_count": 9,
   "metadata": {},
   "outputs": [
    {
     "name": "stdout",
     "output_type": "stream",
     "text": [
      "#! /bin/bash\r\n",
      "\r\n",
      "VALUE = \"10\"\r\n",
      "echo \"$VALUE\"\r\n",
      "#or\r\n",
      "echo \"${VALUE}\""
     ]
    }
   ],
   "source": [
    "!cat ./bash_files_folder/echo_example.sh"
   ]
  },
  {
   "cell_type": "markdown",
   "metadata": {},
   "source": [
    "# References"
   ]
  },
  {
   "cell_type": "markdown",
   "metadata": {},
   "source": [
    "<div class=\"alert alert-block alert-warning\">\n",
    "<font color=black>\n",
    " \n",
    "- https://medium.com/@saswat.sipun/shell-scripting-cheat-sheet-c0ecfb80391\n",
    "- https://devhints.io/bash\n",
    "\n",
    "</font>\n",
    "</div>"
   ]
  },
  {
   "cell_type": "code",
   "execution_count": null,
   "metadata": {},
   "outputs": [],
   "source": []
  }
 ],
 "metadata": {
  "kernelspec": {
   "display_name": "trainingAI",
   "language": "python",
   "name": "trainingai"
  },
  "language_info": {
   "codemirror_mode": {
    "name": "ipython",
    "version": 3
   },
   "file_extension": ".py",
   "mimetype": "text/x-python",
   "name": "python",
   "nbconvert_exporter": "python",
   "pygments_lexer": "ipython3",
   "version": "3.8.5"
  }
 },
 "nbformat": 4,
 "nbformat_minor": 2
}
